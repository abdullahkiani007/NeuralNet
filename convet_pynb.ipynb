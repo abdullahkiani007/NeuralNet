{
  "cells": [
    {
      "cell_type": "markdown",
      "metadata": {
        "id": "view-in-github",
        "colab_type": "text"
      },
      "source": [
        "<a href=\"https://colab.research.google.com/github/abdullahkiani007/NeuralNet/blob/main/convet_pynb.ipynb\" target=\"_parent\"><img src=\"https://colab.research.google.com/assets/colab-badge.svg\" alt=\"Open In Colab\"/></a>"
      ]
    },
    {
      "cell_type": "code",
      "execution_count": null,
      "metadata": {
        "id": "UZnfkVn8Eyk4"
      },
      "outputs": [],
      "source": [
        "import torch\n",
        "import cv2\n",
        "import numpy as np\n",
        "from tqdm import tqdm\n",
        "import os\n",
        "import matplotlib.pyplot as plt"
      ]
    },
    {
      "cell_type": "code",
      "execution_count": null,
      "metadata": {
        "colab": {
          "base_uri": "https://localhost:8080/"
        },
        "id": "dINZ9PhpFnEy",
        "outputId": "12181d27-e099-4b04-ef3d-946804ed150b"
      },
      "outputs": [
        {
          "name": "stderr",
          "output_type": "stream",
          "text": [
            "100%|██████████| 12500/12500 [00:14<00:00, 863.64it/s]\n",
            "100%|██████████| 12501/12501 [00:15<00:00, 812.17it/s]\n"
          ]
        },
        {
          "name": "stdout",
          "output_type": "stream",
          "text": [
            "Cats: 12500\n",
            "Dogs: 12500\n"
          ]
        }
      ],
      "source": [
        "# Data Preprocessing\n",
        "REBUILDING_DATA = True\n",
        "\n",
        "class DogsVsCats():\n",
        "  IMG_SIZE = 50\n",
        "  CATS = \"/content/train/cats\"\n",
        "  DOGS = \"/content/train/dogs\"\n",
        "  LABELS = {CATS: 0, DOGS: 1}\n",
        "  trainingData = []\n",
        "  catCount = 0\n",
        "  dogCount = 0\n",
        "\n",
        "  def make_training_data(self):\n",
        "    for label in self.LABELS:\n",
        "\n",
        "      for f in tqdm(os.listdir(label)):\n",
        "\n",
        "        try:\n",
        "          path = os.path.join(label, f)\n",
        "          img = cv2.imread(path, cv2.IMREAD_GRAYSCALE )\n",
        "          img = cv2.resize(img, (self.IMG_SIZE, self.IMG_SIZE))\n",
        "          # img = np.expand_dims(img, axis=2)\n",
        "\n",
        "          # np.eye(2)[0] --> create one hot vector --> [1,0]\n",
        "          label_encoded = np.eye(2)[self.LABELS[label]]\n",
        "          self.trainingData.append( [np.array(img), label_encoded] )\n",
        "          if label == self.CATS:\n",
        "            self.catCount += 1\n",
        "          elif label == self.DOGS:\n",
        "            self.dogCount += 1\n",
        "        except Exception as e:\n",
        "          pass\n",
        "    np.random.shuffle(self.trainingData)\n",
        "\n",
        "    training_images = np.array([data[0] for data in self.trainingData])\n",
        "    training_labels = np.array([data[1] for data in self.trainingData])\n",
        "\n",
        "    # Save images and labels separately\n",
        "    np.save(\"training_data_images.npy\", training_images , allow_pickle=True)\n",
        "    np.save(\"training_data_labels.npy\", training_labels , allow_pickle=True)\n",
        "\n",
        "    print(\"Cats:\", self.catCount)\n",
        "    print(\"Dogs:\", self.dogCount)\n",
        "\n",
        "if REBUILDING_DATA:\n",
        "  dogsVscats = DogsVsCats()\n",
        "  dogsVscats.make_training_data()\n"
      ]
    },
    {
      "cell_type": "code",
      "execution_count": null,
      "metadata": {
        "colab": {
          "base_uri": "https://localhost:8080/"
        },
        "id": "wQHss4N0nRhI",
        "outputId": "0e88bb7e-d91b-4ff9-c6c3-5c4afb12e732"
      },
      "outputs": [
        {
          "data": {
            "text/plain": [
              "array([1., 0.])"
            ]
          },
          "execution_count": 22,
          "metadata": {},
          "output_type": "execute_result"
        }
      ],
      "source": [
        "np.eye(2)[0]"
      ]
    },
    {
      "cell_type": "code",
      "execution_count": null,
      "metadata": {
        "colab": {
          "base_uri": "https://localhost:8080/"
        },
        "id": "5g8Rtfp9tFHo",
        "outputId": "9daf6384-6bb0-4fe2-dee3-6fc863a8ce65"
      },
      "outputs": [
        {
          "name": "stdout",
          "output_type": "stream",
          "text": [
            "True\n"
          ]
        }
      ],
      "source": [
        "print(os.path.exists(\"trainingData.npy\"))"
      ]
    },
    {
      "cell_type": "code",
      "execution_count": null,
      "metadata": {
        "colab": {
          "base_uri": "https://localhost:8080/"
        },
        "id": "CbDn5GT4G0pi",
        "outputId": "cbe4af85-d239-47fb-870d-1505b73d7623"
      },
      "outputs": [
        {
          "name": "stdout",
          "output_type": "stream",
          "text": [
            "Images shape: (25000, 50, 50)\n",
            "Labels shape: (25000, 2)\n",
            "Merged training data shape: (25000,)\n"
          ]
        }
      ],
      "source": [
        "# Assuming you have loaded your images and labels separately\n",
        "training_data_images = np.load(\"training_data_images.npy\", allow_pickle=True)\n",
        "training_data_labels = np.load(\"training_data_labels.npy\", allow_pickle=True)\n",
        "\n",
        "# Verify shapes before stacking\n",
        "print(f\"Images shape: {training_data_images.shape}\")\n",
        "print(f\"Labels shape: {training_data_labels.shape}\")\n",
        "\n",
        "# Stack images and labels in a tuple format\n",
        "# Use 'object' directly instead of 'np.object'\n",
        "training_data = np.empty((len(training_data_images),), dtype=object)\n",
        "for i in range(len(training_data_images)):\n",
        "    training_data[i] = (training_data_images[i], training_data_labels[i])\n",
        "\n",
        "\n",
        "# Verify the shape of the merged array\n",
        "print(f\"Merged training data shape: {training_data.shape}\")"
      ]
    },
    {
      "cell_type": "code",
      "execution_count": null,
      "metadata": {
        "colab": {
          "base_uri": "https://localhost:8080/",
          "height": 554
        },
        "id": "EoWuxdb0isXC",
        "outputId": "a3d13b96-93cb-4043-a417-3c29b1f95ea2"
      },
      "outputs": [
        {
          "name": "stdout",
          "output_type": "stream",
          "text": [
            "(array([[164, 165, 156, ..., 194, 199, 196],\n",
            "       [148, 155, 150, ..., 185, 202, 203],\n",
            "       [154, 157, 139, ..., 186, 192, 203],\n",
            "       ...,\n",
            "       [ 97,  81,  59, ...,  77, 172, 172],\n",
            "       [101,  81,  83, ..., 169, 172, 164],\n",
            "       [108,  79,  60, ..., 185, 166, 165]], dtype=uint8), array([1., 0.]))\n"
          ]
        },
        {
          "data": {
            "image/png": "[encoded data removed]",
            "text/plain": [
              "<Figure size 640x480 with 1 Axes>"
            ]
          },
          "metadata": {},
          "output_type": "display_data"
        }
      ],
      "source": [
        "print(training_data[0])\n",
        "plt.imshow(training_data[0][0] ,cmap=\"gray\")\n",
        "plt.show()"
      ]
    },
    {
      "cell_type": "code",
      "execution_count": null,
      "metadata": {
        "id": "IM-nZcwZtXR-"
      },
      "outputs": [],
      "source": [
        "np.save(\"training_data.npy\", training_data)"
      ]
    },
    {
      "cell_type": "code",
      "execution_count": null,
      "metadata": {
        "id": "YyW88H8mJkch"
      },
      "outputs": [],
      "source": [
        "training_data = np.load(\"training_data.npy\" ,allow_pickle=True)"
      ]
    },
    {
      "cell_type": "code",
      "execution_count": null,
      "metadata": {
        "colab": {
          "base_uri": "https://localhost:8080/",
          "height": 93
        },
        "id": "TXo8HXczdG48",
        "outputId": "172f068c-aff8-4380-d491-79899f034079"
      },
      "outputs": [
        {
          "data": {
            "text/html": [
              "\n",
              "     <input type=\"file\" id=\"files-6a0a29c9-e90a-4af3-90cb-aeefe6633c2a\" name=\"files[]\" multiple disabled\n",
              "        style=\"border:none\" />\n",
              "     <output id=\"result-6a0a29c9-e90a-4af3-90cb-aeefe6633c2a\">\n",
              "      Upload widget is only available when the cell has been executed in the\n",
              "      current browser session. Please rerun this cell to enable.\n",
              "      </output>\n",
              "      <script>// Copyright 2017 Google LLC\n",
              "//\n",
              "// Licensed under the Apache License, Version 2.0 (the \"License\");\n",
              "// you may not use this file except in compliance with the License.\n",
              "// You may obtain a copy of the License at\n",
              "//\n",
              "//      http://www.apache.org/licenses/LICENSE-2.0\n",
              "//\n",
              "// Unless required by applicable law or agreed to in writing, software\n",
              "// distributed under the License is distributed on an \"AS IS\" BASIS,\n",
              "// WITHOUT WARRANTIES OR CONDITIONS OF ANY KIND, either express or implied.\n",
              "// See the License for the specific language governing permissions and\n",
              "// limitations under the License.\n",
              "\n",
              "/**\n",
              " * @fileoverview Helpers for google.colab Python module.\n",
              " */\n",
              "(function(scope) {\n",
              "function span(text, styleAttributes = {}) {\n",
              "  const element = document.createElement('span');\n",
              "  element.textContent = text;\n",
              "  for (const key of Object.keys(styleAttributes)) {\n",
              "    element.style[key] = styleAttributes[key];\n",
              "  }\n",
              "  return element;\n",
              "}\n",
              "\n",
              "// Max number of bytes which will be uploaded at a time.\n",
              "const MAX_PAYLOAD_SIZE = 100 * 1024;\n",
              "\n",
              "function _uploadFiles(inputId, outputId) {\n",
              "  const steps = uploadFilesStep(inputId, outputId);\n",
              "  const outputElement = document.getElementById(outputId);\n",
              "  // Cache steps on the outputElement to make it available for the next call\n",
              "  // to uploadFilesContinue from Python.\n",
              "  outputElement.steps = steps;\n",
              "\n",
              "  return _uploadFilesContinue(outputId);\n",
              "}\n",
              "\n",
              "// This is roughly an async generator (not supported in the browser yet),\n",
              "// where there are multiple asynchronous steps and the Python side is going\n",
              "// to poll for completion of each step.\n",
              "// This uses a Promise to block the python side on completion of each step,\n",
              "// then passes the result of the previous step as the input to the next step.\n",
              "function _uploadFilesContinue(outputId) {\n",
              "  const outputElement = document.getElementById(outputId);\n",
              "  const steps = outputElement.steps;\n",
              "\n",
              "  const next = steps.next(outputElement.lastPromiseValue);\n",
              "  return Promise.resolve(next.value.promise).then((value) => {\n",
              "    // Cache the last promise value to make it available to the next\n",
              "    // step of the generator.\n",
              "    outputElement.lastPromiseValue = value;\n",
              "    return next.value.response;\n",
              "  });\n",
              "}\n",
              "\n",
              "/**\n",
              " * Generator function which is called between each async step of the upload\n",
              " * process.\n",
              " * @param {string} inputId Element ID of the input file picker element.\n",
              " * @param {string} outputId Element ID of the output display.\n",
              " * @return {!Iterable<!Object>} Iterable of next steps.\n",
              " */\n",
              "function* uploadFilesStep(inputId, outputId) {\n",
              "  const inputElement = document.getElementById(inputId);\n",
              "  inputElement.disabled = false;\n",
              "\n",
              "  const outputElement = document.getElementById(outputId);\n",
              "  outputElement.innerHTML = '';\n",
              "\n",
              "  const pickedPromise = new Promise((resolve) => {\n",
              "    inputElement.addEventListener('change', (e) => {\n",
              "      resolve(e.target.files);\n",
              "    });\n",
              "  });\n",
              "\n",
              "  const cancel = document.createElement('button');\n",
              "  inputElement.parentElement.appendChild(cancel);\n",
              "  cancel.textContent = 'Cancel upload';\n",
              "  const cancelPromise = new Promise((resolve) => {\n",
              "    cancel.onclick = () => {\n",
              "      resolve(null);\n",
              "    };\n",
              "  });\n",
              "\n",
              "  // Wait for the user to pick the files.\n",
              "  const files = yield {\n",
              "    promise: Promise.race([pickedPromise, cancelPromise]),\n",
              "    response: {\n",
              "      action: 'starting',\n",
              "    }\n",
              "  };\n",
              "\n",
              "  cancel.remove();\n",
              "\n",
              "  // Disable the input element since further picks are not allowed.\n",
              "  inputElement.disabled = true;\n",
              "\n",
              "  if (!files) {\n",
              "    return {\n",
              "      response: {\n",
              "        action: 'complete',\n",
              "      }\n",
              "    };\n",
              "  }\n",
              "\n",
              "  for (const file of files) {\n",
              "    const li = document.createElement('li');\n",
              "    li.append(span(file.name, {fontWeight: 'bold'}));\n",
              "    li.append(span(\n",
              "        `(${file.type || 'n/a'}) - ${file.size} bytes, ` +\n",
              "        `last modified: ${\n",
              "            file.lastModifiedDate ? file.lastModifiedDate.toLocaleDateString() :\n",
              "                                    'n/a'} - `));\n",
              "    const percent = span('0% done');\n",
              "    li.appendChild(percent);\n",
              "\n",
              "    outputElement.appendChild(li);\n",
              "\n",
              "    const fileDataPromise = new Promise((resolve) => {\n",
              "      const reader = new FileReader();\n",
              "      reader.onload = (e) => {\n",
              "        resolve(e.target.result);\n",
              "      };\n",
              "      reader.readAsArrayBuffer(file);\n",
              "    });\n",
              "    // Wait for the data to be ready.\n",
              "    let fileData = yield {\n",
              "      promise: fileDataPromise,\n",
              "      response: {\n",
              "        action: 'continue',\n",
              "      }\n",
              "    };\n",
              "\n",
              "    // Use a chunked sending to avoid message size limits. See b/62115660.\n",
              "    let position = 0;\n",
              "    do {\n",
              "      const length = Math.min(fileData.byteLength - position, MAX_PAYLOAD_SIZE);\n",
              "      const chunk = new Uint8Array(fileData, position, length);\n",
              "      position += length;\n",
              "\n",
              "      const base64 = btoa(String.fromCharCode.apply(null, chunk));\n",
              "      yield {\n",
              "        response: {\n",
              "          action: 'append',\n",
              "          file: file.name,\n",
              "          data: base64,\n",
              "        },\n",
              "      };\n",
              "\n",
              "      let percentDone = fileData.byteLength === 0 ?\n",
              "          100 :\n",
              "          Math.round((position / fileData.byteLength) * 100);\n",
              "      percent.textContent = `${percentDone}% done`;\n",
              "\n",
              "    } while (position < fileData.byteLength);\n",
              "  }\n",
              "\n",
              "  // All done.\n",
              "  yield {\n",
              "    response: {\n",
              "      action: 'complete',\n",
              "    }\n",
              "  };\n",
              "}\n",
              "\n",
              "scope.google = scope.google || {};\n",
              "scope.google.colab = scope.google.colab || {};\n",
              "scope.google.colab._files = {\n",
              "  _uploadFiles,\n",
              "  _uploadFilesContinue,\n",
              "};\n",
              "})(self);\n",
              "</script> "
            ],
            "text/plain": [
              "<IPython.core.display.HTML object>"
            ]
          },
          "metadata": {},
          "output_type": "display_data"
        },
        {
          "name": "stdout",
          "output_type": "stream",
          "text": [
            "Saving training_data.npy to training_data.npy\n"
          ]
        }
      ],
      "source": [
        "#Mount your Google Drive files Following code make mount your google drive\n",
        "from google.colab import drive\n",
        "drive.mount('/content/gdrive')\n",
        "\n",
        " #   Now upload the kaggle.json file\n",
        "\n",
        "from google.colab import files\n",
        "\n",
        "files.upload() #this will prompt you to upload the kaggle.json\n",
        "\n",
        "  #  make sure kaggle.json file is present\n",
        "!ls -lha kaggle.json\n",
        "\n",
        "#    Install kaggle API client\n",
        "!pip install -q kaggle\n",
        "\n",
        "#kaggle API client expects the file to be in ~/.kaggle\n",
        "#so move it there\n",
        "!mkdir -p ~/.kaggle\n",
        "!cp kaggle.json ~/.kaggle/\n",
        "\n",
        "#we need to set permissions\n",
        "!chmod 600 /root/.kaggle/kaggle.json\n",
        "\n",
        "#check your directory before downloading the datasets\n",
        "!pwd\n",
        "\n",
        "#list all available datasets\n",
        "!kaggle datasets list\n",
        "\n",
        "#download the required dataset from kaggle\n",
        "!kaggle competitions download -c dogs-vs-cats\n",
        "\n",
        "#If your file is a zip file you can unzip with the following code\n",
        "!unzip dogs-vs-cats.zip\n",
        "\n",
        "!unzip train.zip\n",
        "\n",
        "# Create directories\n",
        "!mkdir -p train/cats train/dogs\n",
        "\n",
        "# Move cat images\n",
        "!find . -type f -name 'cat*.*' -exec mv {} train/cats/ \\;\n",
        "\n",
        "# Move dog images\n",
        "!find . -type f -name 'dog*.*' -exec mv {} train/dogs/ \\;\n"
      ]
    },
    {
      "cell_type": "code",
      "execution_count": null,
      "metadata": {
        "colab": {
          "base_uri": "https://localhost:8080/"
        },
        "id": "fjPNjaEzg2sr",
        "outputId": "220a97a5-90ca-47c5-b5ee-71c8e338bfc2"
      },
      "outputs": [
        {
          "name": "stdout",
          "output_type": "stream",
          "text": [
            "/content\n"
          ]
        }
      ],
      "source": [
        "!pwd"
      ]
    },
    {
      "cell_type": "code",
      "execution_count": null,
      "metadata": {
        "id": "V9R-uq69lIPK"
      },
      "outputs": [],
      "source": [
        "import torch\n",
        "import torch.nn as nn\n",
        "import torch.nn.functional as F\n",
        "\n",
        "class Net(nn.Module):\n",
        "    def __init__(self):\n",
        "        super().__init__()\n",
        "        self.conv1 = nn.Conv2d(1, 32, 5)\n",
        "        self.conv2 = nn.Conv2d(32, 64, 5)\n",
        "        self.conv3 = nn.Conv2d(64, 128, 5)\n",
        "        self._to_linear = None\n",
        "\n",
        "        x = torch.rand(50,50)\n",
        "        self.fc1 = None  # Initialize later\n",
        "        self.fc2 = nn.Linear(512,2)\n",
        "\n",
        "\n",
        "    def convs(self,x):\n",
        "      x = F.max_pool2d(F.relu(self.conv1(x)), 2)\n",
        "      x = F.max_pool2d(F.relu(self.conv2(x)), 2)\n",
        "      x = F.max_pool2d(F.relu(self.conv3(x)), 2)\n",
        "\n",
        "      if self.fc1 is None:\n",
        "        x_shape = x[0].shape\n",
        "        self._to_linear = x_shape[0] * x_shape[1] * x_shape[2]\n",
        "        self.fc1 = nn.Linear(self._to_linear, 512)\n",
        "\n",
        "      return x\n",
        "\n",
        "    def forward(self, x):\n",
        "        x = self.convs(x)\n",
        "        x = x.view(-1, self._to_linear)\n",
        "        x = F.relu(self.fc1(x))\n",
        "        x = self.fc2(x)\n",
        "        return F.softmax(x,dim=1)\n",
        "\n",
        "net = Net()\n",
        "input_image = torch.randn(1, 1, 50, 50)\n",
        "output = net(input_image)\n"
      ]
    },
    {
      "cell_type": "code",
      "execution_count": null,
      "metadata": {
        "colab": {
          "base_uri": "https://localhost:8080/"
        },
        "id": "ekgjAK3twzRq",
        "outputId": "4884fca6-32c4-40bf-e6dc-7e1ec978dfe0"
      },
      "outputs": [
        {
          "name": "stderr",
          "output_type": "stream",
          "text": [
            "<ipython-input-7-ae3dd2871f8f>:6: UserWarning: Creating a tensor from a list of numpy.ndarrays is extremely slow. Please consider converting the list to a single numpy.ndarray with numpy.array() before converting to a tensor. (Triggered internally at ../torch/csrc/utils/tensor_new.cpp:274.)\n",
            "  X = torch.Tensor([i[0] for i in training_data]).view(-1,50,50)\n"
          ]
        }
      ],
      "source": [
        "import torch.optim as optim\n",
        "\n",
        "optimizer = optim.Adam(net.parameters(), lr=0.001)\n",
        "loss_function = nn.MSELoss()\n",
        "\n",
        "X = torch.Tensor([i[0] for i in training_data]).view(-1,50,50)\n",
        "X = X/255.0\n",
        "\n",
        "Y = torch.Tensor([i[1] for i in training_data])"
      ]
    },
    {
      "cell_type": "code",
      "execution_count": null,
      "metadata": {
        "id": "c-bEL6i8kNl4"
      },
      "outputs": [],
      "source": [
        "VAL_PCT = 0.1\n",
        "val_size = int(len(X)* VAL_PCT)\n",
        "\n",
        "train_x = X[:-val_size]\n",
        "train_y = Y[:-val_size]\n",
        "\n",
        "test_x = X[-val_size:]\n",
        "test_y = X[-val_size:]"
      ]
    },
    {
      "cell_type": "code",
      "execution_count": null,
      "metadata": {
        "colab": {
          "base_uri": "https://localhost:8080/"
        },
        "id": "5J52tT36m4wk",
        "outputId": "66b61e83-e150-4bc1-966f-fce9a6f2372f"
      },
      "outputs": [
        {
          "name": "stderr",
          "output_type": "stream",
          "text": [
            "100%|██████████| 225/225 [02:04<00:00,  1.81it/s]"
          ]
        },
        {
          "name": "stdout",
          "output_type": "stream",
          "text": [
            "Epoch 1/1, Loss: 0.22311797738075256\n"
          ]
        },
        {
          "name": "stderr",
          "output_type": "stream",
          "text": [
            "\n"
          ]
        }
      ],
      "source": [
        "BATCH_SIZE = 100\n",
        "EPOCHS = 1\n",
        "\n",
        "for epoch in range(EPOCHS):\n",
        "  for i in tqdm(range(0, len(train_x), BATCH_SIZE)):\n",
        "    batch_x = train_x[i:i+BATCH_SIZE].view(-1,1,50,50)\n",
        "    batch_y = train_y[i:i+BATCH_SIZE]\n",
        "    net.zero_grad()\n",
        "    outputs = net(batch_x)\n",
        "    loss = loss_function(outputs, batch_y)\n",
        "    loss.backward()\n",
        "    optimizer.step()\n",
        "\n",
        "  print(f\"Epoch {epoch+1}/{EPOCHS}, Loss: {loss}\")"
      ]
    },
    {
      "cell_type": "code",
      "execution_count": null,
      "metadata": {
        "colab": {
          "base_uri": "https://localhost:8080/",
          "height": 265
        },
        "id": "xNl80hdXkrij",
        "outputId": "983e062a-eb26-456b-f282-adc19d8c94f5"
      },
      "outputs": [
        {
          "name": "stderr",
          "output_type": "stream",
          "text": [
            "  0%|          | 0/25 [00:01<?, ?it/s]\n"
          ]
        },
        {
          "ename": "RuntimeError",
          "evalue": "The size of tensor a (100) must match the size of tensor b (50) at non-singleton dimension 2",
          "output_type": "error",
          "traceback": [
            "\u001b[0;31m---------------------------------------------------------------------------\u001b[0m",
            "\u001b[0;31mRuntimeError\u001b[0m                              Traceback (most recent call last)",
            "\u001b[0;32m<ipython-input-12-5e8f2db1a838>\u001b[0m in \u001b[0;36m<cell line: 7>\u001b[0;34m()\u001b[0m\n\u001b[1;32m     18\u001b[0m \u001b[0;34m\u001b[0m\u001b[0m\n\u001b[1;32m     19\u001b[0m         \u001b[0;31m# Update the correct count\u001b[0m\u001b[0;34m\u001b[0m\u001b[0;34m\u001b[0m\u001b[0m\n\u001b[0;32m---> 20\u001b[0;31m         \u001b[0mcorrect\u001b[0m \u001b[0;34m+=\u001b[0m \u001b[0;34m(\u001b[0m\u001b[0mpredicted\u001b[0m \u001b[0;34m==\u001b[0m \u001b[0mbatch_y\u001b[0m\u001b[0;34m)\u001b[0m\u001b[0;34m.\u001b[0m\u001b[0msum\u001b[0m\u001b[0;34m(\u001b[0m\u001b[0;34m)\u001b[0m\u001b[0;34m.\u001b[0m\u001b[0mitem\u001b[0m\u001b[0;34m(\u001b[0m\u001b[0;34m)\u001b[0m\u001b[0;34m\u001b[0m\u001b[0;34m\u001b[0m\u001b[0m\n\u001b[0m\u001b[1;32m     21\u001b[0m \u001b[0;34m\u001b[0m\u001b[0m\n\u001b[1;32m     22\u001b[0m \u001b[0;31m# Calculate the accuracy\u001b[0m\u001b[0;34m\u001b[0m\u001b[0;34m\u001b[0m\u001b[0m\n",
            "\u001b[0;31mRuntimeError\u001b[0m: The size of tensor a (100) must match the size of tensor b (50) at non-singleton dimension 2"
          ]
        }
      ],
      "source": [
        "BATCH_SIZE = 100\n",
        "EPOCHS = 1\n",
        "\n",
        "correct = 0\n",
        "total = 0\n",
        "\n",
        "with torch.no_grad():\n",
        "    for i in tqdm(range(0, len(test_x), BATCH_SIZE)):\n",
        "        batch_x = test_x[i:i+BATCH_SIZE].view(-1, 1, 50, 50)\n",
        "        batch_y = test_y[i:i+BATCH_SIZE]\n",
        "        outputs = net(batch_x)\n",
        "\n",
        "        # Get the predicted class\n",
        "        _, predicted = torch.max(outputs, 1)\n",
        "\n",
        "        # Update the total count\n",
        "        total += batch_y.size(0)\n",
        "        print(outputs)\n",
        "\n",
        "        # Update the correct count\n",
        "        correct += (predicted == batch_y).sum().item()\n",
        "\n",
        "# Calculate the accuracy\n",
        "accuracy = 100 * correct / total\n",
        "print(f'Accuracy of the network on the {total} test images: {accuracy:.2f} %')"
      ]
    },
    {
      "cell_type": "code",
      "execution_count": null,
      "metadata": {
        "id": "u3oxCLgb4P9g"
      },
      "outputs": [],
      "source": [
        "import pandas as pd\n",
        "import tqdm\n",
        "\n",
        "features= pd.read_csv(\"interview_transcripts_by_turkers.csv\")\n",
        "turker_score = pd.read_csv('turker_scores_full_interview.csv')"
      ]
    },
    {
      "cell_type": "code",
      "execution_count": null,
      "metadata": {
        "colab": {
          "base_uri": "https://localhost:8080/"
        },
        "id": "6qSdTk_6rCGZ",
        "outputId": "4f67c8b6-dd3c-4c69-ea53-58b49eee4815"
      },
      "outputs": [
        {
          "name": "stdout",
          "output_type": "stream",
          "text": [
            "   Top Feature 1  Top Feature 2  Top Feature 3  Top Feature 4  Top Feature 5  \\\n",
            "0            NaN            NaN            NaN            NaN            NaN   \n",
            "1            NaN            NaN            NaN            NaN            NaN   \n",
            "2            NaN            NaN            NaN            NaN            NaN   \n",
            "3            NaN            NaN            NaN            NaN            NaN   \n",
            "4            NaN            NaN            NaN            NaN            NaN   \n",
            "5            NaN            NaN            NaN            NaN            NaN   \n",
            "6            NaN            NaN            NaN            NaN            NaN   \n",
            "\n",
            "   Top Feature 6  Top Feature 7  \n",
            "0            NaN            NaN  \n",
            "1            NaN            NaN  \n",
            "2            NaN            NaN  \n",
            "3            NaN            NaN  \n",
            "4            NaN            NaN  \n",
            "5            NaN            NaN  \n",
            "6            NaN            NaN  \n"
          ]
        }
      ],
      "source": [
        "trait_result_df = pd.DataFrame(features[:7], columns=['Top Feature 1', 'Top Feature 2', 'Top Feature 3',\n",
        "                                                          'Top Feature 4', 'Top Feature 5', 'Top Feature 6',\n",
        "                                                          'Top Feature 7'])\n",
        "print(trait_result_df)"
      ]
    },
    {
      "cell_type": "markdown",
      "metadata": {
        "id": "wBaHWoEBsKMa"
      },
      "source": []
    },
    {
      "cell_type": "code",
      "execution_count": null,
      "metadata": {
        "colab": {
          "base_uri": "https://localhost:8080/"
        },
        "id": "2Yz9zJ39rNbq",
        "outputId": "7f70f6e1-778d-4b3f-9086-7b47065e1656"
      },
      "outputs": [
        {
          "name": "stdout",
          "output_type": "stream",
          "text": [
            "RangeIndex(start=0, stop=1378, step=1)\n",
            "    Participant   Overall  RecommendHiring  Colleague   Engaged   Excited  \\\n",
            "0            p1  5.255257         5.011803   5.259223  5.615709  5.227099   \n",
            "1           p10  4.636124         4.606595   4.623098  4.868082  4.153772   \n",
            "2           p11  5.001159         4.503645   4.759689  4.995317  4.144196   \n",
            "3           p12  5.337614         5.325025   5.811300  5.607812  5.258058   \n",
            "4           p13  4.361250         4.480614   4.476516  4.733128  3.064390   \n",
            "..          ...       ...              ...        ...       ...       ...   \n",
            "133        pp83  5.893972         5.978513   6.594208  6.138136  5.978513   \n",
            "134        pp84  5.634453         6.002256   5.493023  5.527773  5.589696   \n",
            "135        pp85  5.402897         5.640732   5.754597  6.486180  5.842759   \n",
            "136        pp86  4.983765         4.855575   4.499470  5.501548  5.237516   \n",
            "137        pp89  4.884454         4.485563   5.127009  5.126526  4.489778   \n",
            "\n",
            "     EyeContact    Smiled  SpeakingRate  NoFillers  Friendly    Paused  \\\n",
            "0      5.874013  3.508462      5.207288   3.419074  5.250532  5.755608   \n",
            "1      4.629558  5.319890      5.225041   2.642020  5.749756  5.846101   \n",
            "2      3.625478  4.601409      5.543940   3.026714  4.162478  5.868843   \n",
            "3      5.254583  6.616149      5.610675   4.996012  6.484779  5.600663   \n",
            "4      4.867039  3.931837      4.301333   3.641058  4.124475  5.983039   \n",
            "..          ...       ...           ...        ...       ...       ...   \n",
            "133    5.871975  6.498115      4.878340   4.426549  6.616587  5.640506   \n",
            "134    5.173889  6.503734      5.045152   4.894197  6.503281  5.656936   \n",
            "135    6.142251  5.005657      4.168182   3.899686  6.107861  5.293750   \n",
            "136    5.876992  4.875048      4.932859   3.902903  4.891354  5.646028   \n",
            "137    3.658041  4.918335      4.816559   3.147589  5.629704  5.878250   \n",
            "\n",
            "     EngagingTone  StructuredAnswers      Calm  NotStressed   Focused  \\\n",
            "0        5.127545           4.765731  5.150119     5.150084  5.982803   \n",
            "1        5.091012           3.397329  4.049465     4.282546  5.474210   \n",
            "2        4.380750           4.757163  5.003232     5.195944  5.968642   \n",
            "3        5.494710           4.257661  5.800292     5.948979  5.829398   \n",
            "4        2.440885           4.657340  5.607742     5.259750  5.973250   \n",
            "..            ...                ...       ...          ...       ...   \n",
            "133      5.866845           4.542053  5.054757     5.265717  6.231514   \n",
            "134      5.736165           4.543346  4.679118     5.638963  6.220910   \n",
            "135      5.137719           4.435359  4.887233     4.999884  6.728234   \n",
            "136      5.467655           4.471145  5.738744     5.993313  5.342051   \n",
            "137      5.100771           4.028725  6.111052     5.744234  5.008760   \n",
            "\n",
            "     Authentic  NotAwkward       Total  \n",
            "0     5.845613    5.164170   92.570133  \n",
            "1     5.869321    3.904469   84.368388  \n",
            "2     5.768732    4.605246   85.912577  \n",
            "3     6.332433    4.860928  100.427071  \n",
            "4     5.659596    3.772622   81.335866  \n",
            "..         ...         ...         ...  \n",
            "133   6.617680    5.648950  103.742929  \n",
            "134   6.249876    5.018883  100.111650  \n",
            "135   6.485872    4.644510   97.063364  \n",
            "136   6.000927    5.239407   93.456299  \n",
            "137   6.241914    5.497603   89.894866  \n",
            "\n",
            "[138 rows x 20 columns]\n"
          ]
        }
      ],
      "source": []
    },
    {
      "cell_type": "code",
      "execution_count": null,
      "metadata": {
        "colab": {
          "base_uri": "https://localhost:8080/"
        },
        "id": "1Am76blgswGE",
        "outputId": "217978c9-2fef-4d13-c5d8-3e47b3c24ce4"
      },
      "outputs": [
        {
          "name": "stdout",
          "output_type": "stream",
          "text": [
            "Top features for RecommendHiring: ['Engaged', 'We Count', 'Filler Words']\n",
            "Top features for Overall: ['Engaged', 'Speaking Rate', 'Filler Words']\n"
          ]
        }
      ],
      "source": [
        "import pandas as pd\n",
        "\n",
        "# Example MI scores (replace this with loading your actual MI scores DataFrame)\n",
        "data = {\n",
        "    'Trait': ['Filler Words', 'We Count', 'Engaged', 'Smiled', 'Speaking Rate'],\n",
        "    'Overall': [0.007324734, 0.0, 0.034081128, 0.0, 0.022271921],\n",
        "    'RecommendHiring': [0.067357953, 0.110020891, 0.11135889, 0.0, 0.0],\n",
        "    'Colleague': [0.060976955, 0.015240135, 0.015240135, 0.0, 0.0],\n",
        "    'Engaged': [0.034081128, 0.019612884, 0.019612884, 0.111061511, 0.0],\n",
        "    'Excited': [0.0, 0.11135889, 0.099627234, 0.111061511, 0.107052822],\n",
        "}\n",
        "\n",
        "# Create DataFrame from the data (replace `data` with your actual DataFrame)\n",
        "mi_scores = pd.DataFrame(data)\n",
        "\n",
        "# Function to select top features based on MI scores for a specific outcome\n",
        "def select_top_features(mi_scores_df, outcome_column, top_n=5):\n",
        "    # Sort by MI score for the specified outcome column\n",
        "    sorted_features = mi_scores_df.sort_values(by=outcome_column, ascending=False)\n",
        "\n",
        "    # Select top N features based on MI score\n",
        "    top_features = sorted_features.head(top_n)['Trait'].tolist()\n",
        "\n",
        "    return top_features\n",
        "\n",
        "# Example usage: Select top features for 'RecommendHiring'\n",
        "top_features_recommend_hiring = select_top_features(mi_scores, 'RecommendHiring', top_n=3)\n",
        "print(\"Top features for RecommendHiring:\", top_features_recommend_hiring)\n",
        "\n",
        "# Example usage: Select top features for 'Overall'\n",
        "top_features_overall = select_top_features(mi_scores, 'Overall', top_n=3)\n",
        "print(\"Top features for Overall:\", top_features_overall)\n"
      ]
    },
    {
      "cell_type": "code",
      "execution_count": null,
      "metadata": {
        "colab": {
          "base_uri": "https://localhost:8080/"
        },
        "id": "gxAnfyLJ1FdT",
        "outputId": "56821f3a-803e-49a2-b3de-a94c09f617e7"
      },
      "outputs": [
        {
          "output_type": "stream",
          "name": "stdout",
          "text": [
            "Collecting praat-parselmouth\n",
            "  Downloading praat_parselmouth-0.4.3-cp310-cp310-manylinux_2_12_x86_64.manylinux2010_x86_64.whl (10.7 MB)\n",
            "\u001b[2K     \u001b[90m━━━━━━━━━━━━━━━━━━━━━━━━━━━━━━━━━━━━━━━━\u001b[0m \u001b[32m10.7/10.7 MB\u001b[0m \u001b[31m71.4 MB/s\u001b[0m eta \u001b[36m0:00:00\u001b[0m\n",
            "\u001b[?25hRequirement already satisfied: numpy>=1.7.0 in /usr/local/lib/python3.10/dist-packages (from praat-parselmouth) (1.25.2)\n",
            "Installing collected packages: praat-parselmouth\n",
            "Successfully installed praat-parselmouth-0.4.3\n"
          ]
        }
      ],
      "source": [
        "!pip install praat-parselmouth"
      ]
    },
    {
      "cell_type": "code",
      "execution_count": null,
      "metadata": {
        "colab": {
          "base_uri": "https://localhost:8080/"
        },
        "id": "5sr6n64e3L8J",
        "outputId": "4e55ce60-ba1d-41ca-c01f-bb0e9c2178de"
      },
      "outputs": [
        {
          "output_type": "stream",
          "name": "stdout",
          "text": [
            "Collecting sounddevice\n",
            "  Downloading sounddevice-0.4.7-py3-none-any.whl (32 kB)\n",
            "Requirement already satisfied: scipy in /usr/local/lib/python3.10/dist-packages (1.11.4)\n",
            "Requirement already satisfied: CFFI>=1.0 in /usr/local/lib/python3.10/dist-packages (from sounddevice) (1.16.0)\n",
            "Requirement already satisfied: numpy<1.28.0,>=1.21.6 in /usr/local/lib/python3.10/dist-packages (from scipy) (1.25.2)\n",
            "Requirement already satisfied: pycparser in /usr/local/lib/python3.10/dist-packages (from CFFI>=1.0->sounddevice) (2.22)\n",
            "Installing collected packages: sounddevice\n",
            "Successfully installed sounddevice-0.4.7\n"
          ]
        }
      ],
      "source": [
        "!pip install sounddevice scipy"
      ]
    },
    {
      "cell_type": "code",
      "execution_count": null,
      "metadata": {
        "id": "OOC0oHFe35ps"
      },
      "outputs": [],
      "source": [
        "import parselmouth\n",
        "from parselmouth.praat import call\n",
        "import pandas as pd\n",
        "import os"
      ]
    },
    {
      "cell_type": "code",
      "source": [
        "def extract_features(audio_path):\n",
        "    sound = parselmouth.Sound(audio_path)\n",
        "    audio_file_name = os.path.basename(audio_path)  # Extract the audio file name without path\n",
        "\n",
        "    # Duration\n",
        "    duration = call(sound, \"Get total duration\")\n",
        "\n",
        "    # Pitch (F0)\n",
        "    pitch = call(sound, \"To Pitch\", 0.0, 75, 600)\n",
        "    mean_pitch = call(pitch, \"Get mean\", 0, 0, \"Hertz\")\n",
        "    min_pitch = call(pitch, \"Get minimum\", 0, 0, \"Hertz\")\n",
        "    max_pitch = call(pitch, \"Get maximum\", 0, 0, \"Hertz\")\n",
        "    pitch_sd = call(pitch, \"Get standard deviation\", 0, 0, \"Hertz\")\n",
        "    pitch_range = max_pitch - min_pitch\n",
        "\n",
        "    # Intensity\n",
        "    intensity = call(sound, \"To Intensity\", 75, 0.0)\n",
        "    mean_intensity = call(intensity, \"Get mean\", 0, 0, \"dB\")\n",
        "    min_intensity = call(intensity, \"Get minimum\", 0, 0)\n",
        "    max_intensity = call(intensity, \"Get maximum\", 0, 0)\n",
        "    intensity_sd = call(intensity, \"Get standard deviation\", 0, 0, \"dB\")\n",
        "    intensity_range = max_intensity - min_intensity\n",
        "\n",
        "    # Formants\n",
        "    formant = call(sound, \"To Formant (burg)\", 0.0, 5, 5500, 0.025, 50)\n",
        "    f1_mean = call(formant, \"Get mean\", 1, 0, 0, \"Hertz\")\n",
        "    f2_mean = call(formant, \"Get mean\", 2, 0, 0, \"Hertz\")\n",
        "    f3_mean = call(formant, \"Get mean\", 3, 0, 0, \"Hertz\")\n",
        "    f1_sd = call(formant, \"Get standard deviation\", 1, 0, 0, \"Hertz\")\n",
        "    f2_sd = call(formant, \"Get standard deviation\", 2, 0, 0, \"Hertz\")\n",
        "    f3_sd = call(formant, \"Get standard deviation\", 3, 0, 0, \"Hertz\")\n",
        "\n",
        "    # Bandwidth\n",
        "    f1_bw = call(formant, \"Get bandwidth at time\", 1, 0.0, \"Hertz\")\n",
        "    f2_bw = call(formant, \"Get bandwidth at time\", 2, 0.0, \"Hertz\")\n",
        "    f3_bw = call(formant, \"Get bandwidth at time\", 3, 0.0, \"Hertz\")\n",
        "    f1_f2_ratio_mean = f2_mean / f1_mean\n",
        "    f1_f3_ratio_mean = f3_mean / f1_mean\n",
        "    f1_f2_ratio_sd = f2_sd / f1_mean\n",
        "    f1_f3_ratio_sd = f3_sd / f1_mean\n",
        "\n",
        "    # Jitter and Shimmer\n",
        "    point_process = call(sound, \"To PointProcess (periodic, cc)\", 75, 600)\n",
        "    jitter = call(point_process, \"Get jitter (local)\", 0, 0, 0.0001, 0.02, 1.3)\n",
        "    shimmer = call(point_process, \"Get shimmer (local)\", 0, 0, 0.0001, 0.02, 1.3, 1.0)  # Added Maximum amplitude factor\n",
        "\n",
        "    # Voicing\n",
        "    voiced_frames = call(pitch, \"Count voiced frames\")\n",
        "    total_frames = call(pitch, \"Get number of frames\")\n",
        "    percent_unvoiced = 100 * (total_frames - voiced_frames) / total_frames\n",
        "\n",
        "    # Breaks and Pauses\n",
        "    # Adjusted to avoid using unavailable commands\n",
        "    breaks = call(point_process, \"Get number of voice breaks\")\n",
        "    longest_pause = call(point_process, \"Get maximum voice break\")\n",
        "    total_pause_duration = sum(call(point_process, \"Get voice break\", i) for i in range(1, breaks + 1))\n",
        "    avg_pause_duration = total_pause_duration / breaks if breaks != 0 else 0\n",
        "\n",
        "    features = {\n",
        "        'id': audio_file_name,  # The participant ID as the filename\n",
        "        'duration': duration,\n",
        "        'mean_pitch': mean_pitch,\n",
        "        'min_pitch': min_pitch,\n",
        "        'max_pitch': max_pitch,\n",
        "        'pitch_range': pitch_range,\n",
        "        'pitch_sd': pitch_sd,\n",
        "        'mean_intensity': mean_intensity,\n",
        "        'min_intensity': min_intensity,\n",
        "        'max_intensity': max_intensity,\n",
        "        'intensity_range': intensity_range,\n",
        "        'intensity_sd': intensity_sd,\n",
        "        'f1_mean': f1_mean,\n",
        "        'f2_mean': f2_mean,\n",
        "        'f3_mean': f3_mean,\n",
        "        'f1_sd': f1_sd,\n",
        "        'f2_sd': f2_sd,\n",
        "        'f3_sd': f3_sd,\n",
        "        'f1_bw': f1_bw,\n",
        "        'f2_bw': f2_bw,\n",
        "        'f3_bw': f3_bw,\n",
        "        'f1_f2_ratio_mean': f1_f2_ratio_mean,\n",
        "        'f1_f3_ratio_mean': f1_f3_ratio_mean,\n",
        "        'f1_f2_ratio_sd': f1_f2_ratio_sd,\n",
        "        'f1_f3_ratio_sd': f1_f3_ratio_sd,\n",
        "        'jitter': jitter,\n",
        "        'shimmer': shimmer,\n",
        "        'percent_unvoiced': percent_unvoiced,\n",
        "        'num_voice_breaks': breaks,\n",
        "        'percent_breaks': 100 * breaks / total_frames if total_frames > 0 else 0,\n",
        "        'max_dur_pause': longest_pause,\n",
        "        'avg_dur_pause': avg_pause_duration\n",
        "    }\n",
        "\n",
        "    return features\n",
        "\n",
        "def write_features_to_csv(features_list, output_csv):\n",
        "    df = pd.DataFrame(features_list)\n",
        "    df.to_csv(output_csv, index=False)\n",
        "\n",
        "audio_files = os.listdir(\"audio_files/Audio\")\n",
        "all_features = []\n",
        "\n",
        "for audio_file in audio_files:\n",
        "    audio_path = os.path.join(\"audio_files/Audio\", audio_file)\n",
        "    features = extract_features(audio_path)\n",
        "    all_features.append(features)\n",
        "\n",
        "output_csv = \"all_features.csv\"\n",
        "write_features_to_csv(all_features, output_csv)\n",
        "\n",
        "print(\"All features have been written to the CSV file.\")\n"
      ],
      "metadata": {
        "id": "byU5EzYD7nbW"
      },
      "execution_count": null,
      "outputs": []
    }
  ],
  "metadata": {
    "colab": {
      "provenance": [],
      "authorship_tag": "ABX9TyPYx1O+NKvGGWchjyx17I4Q",
      "include_colab_link": true
    },
    "kernelspec": {
      "display_name": "Python 3",
      "name": "python3"
    },
    "language_info": {
      "name": "python"
    }
  },
  "nbformat": 4,
  "nbformat_minor": 0
}